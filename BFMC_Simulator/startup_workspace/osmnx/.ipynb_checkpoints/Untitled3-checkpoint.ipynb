{
 "cells": [
  {
   "cell_type": "code",
   "execution_count": 107,
   "metadata": {},
   "outputs": [],
   "source": [
    "import bs4 as bs\n",
    "import math"
   ]
  },
  {
   "cell_type": "code",
   "execution_count": 108,
   "metadata": {},
   "outputs": [],
   "source": [
    " import lxml"
   ]
  },
  {
   "cell_type": "code",
   "execution_count": 250,
   "metadata": {},
   "outputs": [
    {
     "name": "stdout",
     "output_type": "stream",
     "text": [
      "4.9 7.55, 4.91 7.93, 4.91 8.31, 4.91 8.68, \n",
      "4\n",
      "1.130131556174964\n"
     ]
    }
   ],
   "source": [
    "# open the map in xml format\n",
    "map_path = \"new 1 - Copy.osm\"\n",
    "xml_file = open(map_path,'r')\n",
    "# building a soup object to parse\n",
    "map = bs.BeautifulSoup( xml_file , 'xml')\n",
    "\n",
    "# extracting all nodes tags and build a dictinary contain all nodes id with\n",
    "# its related coordination\n",
    "nodes_dict = {}\n",
    "for node in map.find_all('node'):\n",
    "    # get all data tags from the node tag\n",
    "    x,y = node.find_all('data')\n",
    "    # get the value of each data tag\n",
    "    x  =  eval(str(x.text))\n",
    "    y  =  eval(str(y.text))\n",
    "    # get the id of the each node\n",
    "    id =  eval(str(node['id']))\n",
    "    # add element to the dictinary contain  { key = id : value = [x,y] }\n",
    "    nodes_dict[ id ]   =  [ x , y ]\n",
    "\n",
    "# show the dictinary format\n",
    "# print(nodes_dict)\n",
    "\n",
    "\n",
    "for k,v in nodes_dict.items():\n",
    "    print(v[0],v[1], end=', ')\n",
    "    \n",
    "print() \n",
    "# code to caculate the legnth between many points\n",
    "total_distance = 0\n",
    "# pust the first node in a variable\n",
    "previos_node = list(nodes_dict.values())[0]\n",
    "# iterate over all values and get the distance between every two points \n",
    "for v in nodes_dict.values():\n",
    "    # calculate the distance between the current point and the previos one \n",
    "    total_distance = total_distance + math.dist(v, previos_node)\n",
    "#     print(math.dist(v, previos_node))\n",
    "    # put the current valuse as a previos value for the next iteration\n",
    "    previos_node = v\n",
    "\n",
    "# check values\n",
    "print(len(nodes_dict))   \n",
    "print()\n",
    "print(total_distance)"
   ]
  },
  {
   "cell_type": "code",
   "execution_count": 240,
   "metadata": {
    "scrolled": true
   },
   "outputs": [
    {
     "name": "stdout",
     "output_type": "stream",
     "text": [
      "0.0\n",
      "0.3799999999999999\n",
      "0.3799999999999999\n",
      "0.3799999999999999\n",
      "0.3799999999999999\n",
      "5\n",
      "1.5199999999999996\n"
     ]
    }
   ],
   "source": []
  },
  {
   "cell_type": "code",
   "execution_count": 224,
   "metadata": {},
   "outputs": [],
   "source": [
    "\n",
    "# this code is to change d0 to d4 and d1 to d5\n",
    "\n",
    "\n",
    "#input file\n",
    "fin = open(map_path, \"rt\")\n",
    "#output file to write the result to\n",
    "fout = open(\"updated\" + map_path, \"wt\")\n",
    "#for each line in the input file\n",
    "for line in fin:\n",
    "        #read replace the string and write to output file\n",
    "        if 'd0' in line:\n",
    "            fout.write(line.replace('\"d0\"', '\"d5\"'))\n",
    "        elif 'd1' in line:\n",
    "            fout.write(line.replace('\"d1\"', '\"d4\"'))\n",
    "        else:\n",
    "            fout.write(line)\n",
    "        \n",
    "\n",
    "\n",
    "#close input and output files\n",
    "fin.close()\n",
    "fout.close()"
   ]
  },
  {
   "cell_type": "code",
   "execution_count": null,
   "metadata": {},
   "outputs": [],
   "source": []
  }
 ],
 "metadata": {
  "kernelspec": {
   "display_name": "Python 3",
   "language": "python",
   "name": "python3"
  },
  "language_info": {
   "codemirror_mode": {
    "name": "ipython",
    "version": 3
   },
   "file_extension": ".py",
   "mimetype": "text/x-python",
   "name": "python",
   "nbconvert_exporter": "python",
   "pygments_lexer": "ipython3",
   "version": "3.8.3"
  }
 },
 "nbformat": 4,
 "nbformat_minor": 4
}
